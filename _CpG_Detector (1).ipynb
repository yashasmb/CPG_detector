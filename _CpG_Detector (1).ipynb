{
 "cells": [
  {
   "cell_type": "markdown",
   "metadata": {
    "id": "G4T6QHHOnfcQ"
   },
   "source": [
    "# Part 1: Build CpG Detector\n",
    "\n",
    "Here we have a simple problem, given a DNA sequence (of N, A, C, G, T), count the number of CpGs in the sequence (consecutive CGs).\n",
    "\n",
    "We have defined a few helper functions / parameters for performing this task.\n",
    "\n",
    "We need you to build a LSTM model and train it to complish this task in PyTorch.\n",
    "\n",
    "A good solution will be a model that can be trained, with high confidence in correctness."
   ]
  },
  {
   "cell_type": "code",
   "execution_count": 15,
   "metadata": {
    "id": "mfS4cLmZD2oB"
   },
   "outputs": [],
   "source": [
    "from typing import Sequence\n",
    "from functools import partial\n",
    "import random\n",
    "import torch\n",
    "import numpy as np\n",
    "import random"
   ]
  },
  {
   "cell_type": "code",
   "execution_count": 16,
   "metadata": {
    "id": "_f-brPAvKvTn"
   },
   "outputs": [],
   "source": [
    "# DO NOT CHANGE HERE\n",
    "def set_seed(seed=13):\n",
    "    random.seed(seed)\n",
    "    np.random.seed(seed)\n",
    "    torch.manual_seed(seed)\n",
    "    if torch.cuda.is_available():\n",
    "        torch.cuda.manual_seed_all(seed)\n",
    "\n",
    "set_seed(13)\n",
    "\n",
    "# Use this for getting x label\n",
    "def rand_sequence(n_seqs: int, seq_len: int=128) -> Sequence[int]:\n",
    "    for i in range(n_seqs):\n",
    "        yield [random.randint(0, 4) for _ in range(seq_len)]\n",
    "\n",
    "# Use this for getting y label\n",
    "def count_cpgs(seq: str) -> int:\n",
    "    cgs = 0\n",
    "    for i in range(0, len(seq) - 1):\n",
    "        dimer = seq[i:i+2]\n",
    "        # note that seq is a string, not a list\n",
    "        if dimer == \"CG\":\n",
    "            cgs += 1\n",
    "    return cgs\n",
    "\n",
    "# Alphabet helpers   \n",
    "alphabet = 'NACGT'\n",
    "dna2int = { a: i for a, i in zip(alphabet, range(5))}\n",
    "int2dna = { i: a for a, i in zip(alphabet, range(5))}\n",
    "\n",
    "intseq_to_dnaseq = partial(map, int2dna.get)\n",
    "dnaseq_to_intseq = partial(map, dna2int.get)"
   ]
  },
  {
   "cell_type": "code",
   "execution_count": 17,
   "metadata": {
    "colab": {
     "base_uri": "https://localhost:8080/"
    },
    "executionInfo": {
     "elapsed": 383,
     "status": "ok",
     "timestamp": 1651686469847,
     "user": {
      "displayName": "Ylex",
      "userId": "01820639168093643789"
     },
     "user_tz": 240
    },
    "id": "VK9Qg5GHYxOb",
    "outputId": "0a00bbb6-d9ac-4cf8-ed84-b55b335d7f51"
   },
   "outputs": [],
   "source": [
    "# we prepared two datasets for training and evaluation\n",
    "# training data scale we set to 2048\n",
    "# we test on 512\n",
    "\n",
    "def prepare_data(num_samples=100):\n",
    "    # prepared the training and test data\n",
    "    # you need to call rand_sequence and count_cpgs here to create the dataset\n",
    "    # step 1\n",
    "    X_dna_seqs_train = list(rand_sequence(num_samples))\n",
    "    \"\"\"\n",
    "    hint:\n",
    "        1. You can check X_dna_seqs_train by print, the data is ids which is your training X \n",
    "        2. You first convert ids back to DNA sequence\n",
    "        3. Then you run count_cpgs which will yield CGs counts - this will be the labels (Y)\n",
    "    \"\"\"\n",
    "     #step2\n",
    "    temp = [\"\".join(intseq_to_dnaseq(seq)) for seq in X_dna_seqs_train] # use intseq_to_dnaseq here to convert ids back to DNA seqs\n",
    "    #step3\n",
    "    y_dna_seqs =[count_cpgs(seq) for seq in temp] # use count_cpgs here to generate labels with temp generated in step2\n",
    "    \n",
    "    return X_dna_seqs_train, y_dna_seqs\n",
    "    \n",
    "train_x, train_y = prepare_data(2048)\n",
    "test_x, test_y = prepare_data(512)"
   ]
  },
  {
   "cell_type": "code",
   "execution_count": 18,
   "metadata": {},
   "outputs": [],
   "source": [
    "# some config\n",
    "LSTM_HIDDEN = 256\n",
    "LSTM_LAYER = 2\n",
    "batch_size = 64\n",
    "learning_rate = 0.001\n",
    "epoch_num = 50\n",
    "input_size = 128\n",
    "output_size = 1"
   ]
  },
  {
   "cell_type": "code",
   "execution_count": 19,
   "metadata": {},
   "outputs": [],
   "source": [
    "from torch.utils.data import DataLoader\n",
    "from torch.utils.data import TensorDataset\n",
    "# Convert data to PyTorch tensors\n",
    "train_x = torch.tensor(train_x)\n",
    "train_y = torch.tensor(train_y)\n",
    "test_x = torch.tensor(test_x)\n",
    "test_y = torch.tensor(test_y)\n",
    "\n",
    "# create data loader\n",
    "train_data_loader = DataLoader(TensorDataset(train_x, train_y), batch_size=batch_size)\n",
    "test_data_loader = DataLoader(TensorDataset(test_x, test_y), batch_size=batch_size)"
   ]
  },
  {
   "cell_type": "code",
   "execution_count": 28,
   "metadata": {},
   "outputs": [],
   "source": [
    "class CpGPredictor(torch.nn.Module):\n",
    "    ''' Simple model that uses a LSTM to count the number of CpGs in a sequence '''\n",
    "    \n",
    "    def __init__(self, input_size, hidden_size, num_layers, output_size):\n",
    "        super(CpGPredictor, self).__init__()\n",
    "        self.hidden_size = hidden_size# Store the LSTM's hidden size and number of layers\n",
    "        self.num_layers = num_layers       \n",
    "        self.embedding = torch.nn.Embedding(5, input_size)# The embedding layer has a size of 5 and a specified input_size\n",
    "        # (for 5 possible input types, e.g., A, C, G, T, and unknown) \n",
    "        self.lstm = torch.nn.LSTM(input_size, hidden_size, num_layers, batch_first=True)# Define the LSTM layer, which will process the input sequence and return a hidden state       \n",
    "        self.fc = torch.nn.Linear(hidden_size, output_size)# The output size corresponds to the number of CpGs predicted by the model\n",
    "\n",
    "    def forward(self, x):\n",
    "        ''' Forward pass of the model, defining how the input flows through the network '''\n",
    "        # Pass the input through the embedding layer to get the embedding vectors for the sequence\n",
    "        x = self.embedding(x)\n",
    "        # Both states are initialized as zeros. They must have the correct shape (num_layers, batch_size, hidden_size)\n",
    "        h0 = torch.zeros(self.num_layers, x.size(0), self.hidden_size).to(x.device)\n",
    "        c0 = torch.zeros(self.num_layers, x.size(0), self.hidden_size).to(x.device)   \n",
    "        out, _ = self.lstm(x, (h0, c0))# Pass the embedded sequence through the LSTM\n",
    "        out = self.fc(out[:, -1, :])#This outputs a prediction based on the hidden state from the last time step in the sequence\n",
    "        return out\n"
   ]
  },
  {
   "cell_type": "code",
   "execution_count": 29,
   "metadata": {},
   "outputs": [],
   "source": [
    "\n",
    "model = CpGPredictor(input_size, LSTM_HIDDEN, LSTM_LAYER, output_size)\n",
    "loss_fn = torch.nn.MSELoss()\n",
    "optimizer = torch.optim.Adam(model.parameters(), lr=learning_rate)"
   ]
  },
  {
   "cell_type": "code",
   "execution_count": null,
   "metadata": {},
   "outputs": [],
   "source": []
  },
  {
   "cell_type": "code",
   "execution_count": 31,
   "metadata": {},
   "outputs": [
    {
     "name": "stdout",
     "output_type": "stream",
     "text": [
      "Model is running on GPU.\n"
     ]
    }
   ],
   "source": [
    "# Check if the model is on GPU or CPU\n",
    "device = next(model.parameters()).device\n",
    "if device.type == 'cuda':\n",
    "    print(\"Model is running on GPU.\")\n",
    "else:\n",
    "    print(\"Model is running on CPU.\")\n",
    "device = torch.device(\"cuda\" if torch.cuda.is_available() else \"cpu\")\n",
    "model = model.to(device)"
   ]
  },
  {
   "cell_type": "code",
   "execution_count": 32,
   "metadata": {},
   "outputs": [
    {
     "name": "stdout",
     "output_type": "stream",
     "text": [
      "Epoch 1/50, Loss: 7.501315355300903\n",
      "Epoch 2/50, Loss: 4.217598550021648\n",
      "Epoch 3/50, Loss: 4.203909769654274\n",
      "Epoch 4/50, Loss: 4.187906458973885\n",
      "Epoch 5/50, Loss: 4.091752842068672\n",
      "Epoch 6/50, Loss: 2.7752440199255943\n",
      "Epoch 7/50, Loss: 1.4571015927940607\n",
      "Epoch 8/50, Loss: 0.8811340536922216\n",
      "Epoch 9/50, Loss: 0.6308174831792712\n",
      "Epoch 10/50, Loss: 0.4672010447829962\n",
      "Epoch 11/50, Loss: 0.32654493348672986\n",
      "Epoch 12/50, Loss: 0.2363478196784854\n",
      "Epoch 13/50, Loss: 0.14805650408379734\n",
      "Epoch 14/50, Loss: 0.11473007663153112\n",
      "Epoch 15/50, Loss: 0.07178926421329379\n",
      "Epoch 16/50, Loss: 0.06645218364428729\n",
      "Epoch 17/50, Loss: 0.05641122680390254\n",
      "Epoch 18/50, Loss: 0.036334607924800366\n",
      "Epoch 19/50, Loss: 0.026319796248571947\n",
      "Epoch 20/50, Loss: 0.02112695001414977\n",
      "Epoch 21/50, Loss: 0.019774569693254307\n",
      "Epoch 22/50, Loss: 0.016009849510737695\n",
      "Epoch 23/50, Loss: 0.013339323922991753\n",
      "Epoch 24/50, Loss: 0.01190568134188652\n",
      "Epoch 25/50, Loss: 0.011811182310339063\n",
      "Epoch 26/50, Loss: 0.014748158544534817\n",
      "Epoch 27/50, Loss: 0.014000461669638753\n",
      "Epoch 28/50, Loss: 0.02329619428201113\n",
      "Epoch 29/50, Loss: 0.014727343950653449\n",
      "Epoch 30/50, Loss: 0.013717652196646668\n",
      "Epoch 31/50, Loss: 0.013429420258034952\n",
      "Epoch 32/50, Loss: 0.019393364782445133\n",
      "Epoch 33/50, Loss: 0.03103829614701681\n",
      "Epoch 34/50, Loss: 0.02670913381734863\n",
      "Epoch 35/50, Loss: 0.016586397192440927\n",
      "Epoch 36/50, Loss: 0.013229180127382278\n",
      "Epoch 37/50, Loss: 0.010474384704139084\n",
      "Epoch 38/50, Loss: 0.007766673879814334\n",
      "Epoch 39/50, Loss: 0.0070644189763697796\n",
      "Epoch 40/50, Loss: 0.006880309811094776\n",
      "Epoch 41/50, Loss: 0.006504160453914665\n",
      "Epoch 42/50, Loss: 0.006292546560871415\n",
      "Epoch 43/50, Loss: 0.005474240082548931\n",
      "Epoch 44/50, Loss: 0.00498648877692176\n",
      "Epoch 45/50, Loss: 0.006241938273888081\n",
      "Epoch 46/50, Loss: 0.028449248806282412\n",
      "Epoch 47/50, Loss: 0.022842685895739123\n",
      "Epoch 48/50, Loss: 0.01853026323078666\n",
      "Epoch 49/50, Loss: 0.024093603176879697\n",
      "Epoch 50/50, Loss: 0.019057019759202376\n"
     ]
    }
   ],
   "source": [
    "# training (you can modify the code below)\n",
    "t_loss = .0\n",
    "model.train()\n",
    "for epoch in range(epoch_num):\n",
    "    for batch_x, batch_y in train_data_loader:\n",
    "        batch_x, batch_y = batch_x.to(device), batch_y.to(device)# moving to GPU\n",
    "        # TODO: complete training loop\n",
    "        optimizer.zero_grad()\n",
    "        outputs = model(batch_x)\n",
    "        loss = loss_fn(outputs, batch_y.float().unsqueeze(1))\n",
    "        loss.backward()\n",
    "        optimizer.step()\n",
    "        \n",
    "        t_loss += loss.item()\n",
    "\n",
    "    epoch_loss = t_loss / len(train_data_loader)\n",
    "    print(f\"Epoch {epoch+1}/{epoch_num}, Loss: {epoch_loss}\")\n",
    "\n",
    "    t_loss = .0  # Reset total loss for next epoch\n"
   ]
  },
  {
   "cell_type": "code",
   "execution_count": 33,
   "metadata": {
    "scrolled": true
   },
   "outputs": [
    {
     "name": "stdout",
     "output_type": "stream",
     "text": [
      "Test Loss: 0.2082410342991352\n"
     ]
    }
   ],
   "source": [
    "# Evaluation (you can modify the code below)\n",
    "model.eval()\n",
    "\n",
    "# Ensure the model is on the same device as your input data\n",
    "device = torch.device(\"cuda\" if torch.cuda.is_available() else \"cpu\")\n",
    "model.to(device)\n",
    "\n",
    "res_gs = []\n",
    "res_pred = []\n",
    "\n",
    "total_loss = 0\n",
    "with torch.no_grad():\n",
    "    for batch_x, batch_y in test_data_loader:\n",
    "        # Move data to the correct device (GPU if available)\n",
    "        batch_x, batch_y = batch_x.to(device), batch_y.to(device)\n",
    "        \n",
    "        # Forward pass\n",
    "        outputs = model(batch_x)\n",
    "\n",
    "        # Save ground truth and predictions for further analysis or metrics\n",
    "        res_gs.append(batch_y.cpu().numpy())\n",
    "        res_pred.append(outputs.cpu().numpy())\n",
    "\n",
    "        # Calculate loss\n",
    "        loss = loss_fn(outputs, batch_y.float().unsqueeze(1))\n",
    "        total_loss += loss.item()\n",
    "\n",
    "# Optionally, you can calculate other metrics like accuracy, etc., here\n",
    "\n",
    "print(f\"Test Loss: {total_loss}\")\n"
   ]
  },
  {
   "cell_type": "code",
   "execution_count": 35,
   "metadata": {},
   "outputs": [
    {
     "name": "stdout",
     "output_type": "stream",
     "text": [
      "Overall Accuracy: 0.95\n"
     ]
    }
   ],
   "source": [
    "# Prepare data\n",
    "N = 100\n",
    "test_x, test_y = prepare_data(N)\n",
    "\n",
    "# Convert data to PyTorch tensors and move to GPU \n",
    "test_x = torch.tensor(test_x).to(device)\n",
    "test_y = torch.tensor(test_y).to(device)\n",
    "\n",
    "# Ensure the model is on the same device as the data\n",
    "device = torch.device(\"cuda\" if torch.cuda.is_available() else \"cpu\")\n",
    "model.to(device)\n",
    "\n",
    "# Run predictions for each sequence and compute overall accuracy\n",
    "correct_predictions = 0\n",
    "for sequence, y in zip(test_x, test_y):\n",
    "    # Perform inference\n",
    "    with torch.no_grad():\n",
    "        output = model(sequence.unsqueeze(0).to(device))  # Move sequence to GPU\n",
    "\n",
    "    # Convert output to CpG count\n",
    "    predicted_cpg_count = output.item()\n",
    "\n",
    "    # Check if prediction is within a tolerance of 0.5\n",
    "    if abs(predicted_cpg_count - y.float().item()) <= 0.3:\n",
    "        correct_predictions += 1\n",
    "\n",
    "# Compute overall accuracy\n",
    "accuracy = correct_predictions / N\n",
    "print(\"Overall Accuracy:\", accuracy)\n"
   ]
  },
  {
   "cell_type": "code",
   "execution_count": 36,
   "metadata": {},
   "outputs": [],
   "source": [
    "torch.save(model.state_dict(), \"model.pth\")"
   ]
  },
  {
   "cell_type": "code",
   "execution_count": null,
   "metadata": {},
   "outputs": [
    {
     "name": "stderr",
     "output_type": "stream",
     "text": [
      "C:\\Users\\yasha\\AppData\\Local\\Temp\\ipykernel_41508\\2574230745.py:1: FutureWarning: You are using `torch.load` with `weights_only=False` (the current default value), which uses the default pickle module implicitly. It is possible to construct malicious pickle data which will execute arbitrary code during unpickling (See https://github.com/pytorch/pytorch/blob/main/SECURITY.md#untrusted-models for more details). In a future release, the default value for `weights_only` will be flipped to `True`. This limits the functions that could be executed during unpickling. Arbitrary objects will no longer be allowed to be loaded via this mode unless they are explicitly allowlisted by the user via `torch.serialization.add_safe_globals`. We recommend you start setting `weights_only=True` for any use case where you don't have full control of the loaded file. Please open an issue on GitHub for any issues related to this experimental feature.\n",
      "  model_loaded = torch.load('model.pth')\n"
     ]
    }
   ],
   "source": [
    "model_loaded = torch.load('model.pth')\n",
    "\n"
   ]
  },
  {
   "cell_type": "code",
   "execution_count": 44,
   "metadata": {},
   "outputs": [
    {
     "name": "stderr",
     "output_type": "stream",
     "text": [
      "C:\\Users\\yasha\\AppData\\Local\\Temp\\ipykernel_41508\\3989251230.py:1: FutureWarning: You are using `torch.load` with `weights_only=False` (the current default value), which uses the default pickle module implicitly. It is possible to construct malicious pickle data which will execute arbitrary code during unpickling (See https://github.com/pytorch/pytorch/blob/main/SECURITY.md#untrusted-models for more details). In a future release, the default value for `weights_only` will be flipped to `True`. This limits the functions that could be executed during unpickling. Arbitrary objects will no longer be allowed to be loaded via this mode unless they are explicitly allowlisted by the user via `torch.serialization.add_safe_globals`. We recommend you start setting `weights_only=True` for any use case where you don't have full control of the loaded file. Please open an issue on GitHub for any issues related to this experimental feature.\n",
      "  model.load_state_dict(torch.load('model.pth'))\n"
     ]
    },
    {
     "data": {
      "text/plain": [
       "CpGPredictor(\n",
       "  (embedding): Embedding(5, 128)\n",
       "  (lstm): LSTM(128, 256, num_layers=2, batch_first=True)\n",
       "  (fc): Linear(in_features=256, out_features=1, bias=True)\n",
       ")"
      ]
     },
     "execution_count": 44,
     "metadata": {},
     "output_type": "execute_result"
    }
   ],
   "source": [
    "model.load_state_dict(torch.load('model.pth'))\n",
    "\n",
    "# Set the model to evaluation mode\n",
    "model.eval()\n"
   ]
  },
  {
   "cell_type": "markdown",
   "metadata": {
    "id": "TMrRf_aVDRJm"
   },
   "source": [
    "# Part 2: what if the DNA sequences are not the same length"
   ]
  },
  {
   "cell_type": "code",
   "execution_count": null,
   "metadata": {},
   "outputs": [],
   "source": [
    "# hint we will need following imports\n",
    "from torch.nn.utils.rnn import pad_sequence, pack_padded_sequence, pad_packed_sequence"
   ]
  },
  {
   "cell_type": "code",
   "execution_count": null,
   "metadata": {
    "id": "AKvG-MNuXJr9"
   },
   "outputs": [],
   "source": [
    "# DO NOT CHANGE HERE\n",
    "random.seed(13)\n",
    "\n",
    "# Use this for getting x label\n",
    "def rand_sequence_var_len(n_seqs: int, lb: int=16, ub: int=128) -> Sequence[int]:\n",
    "    for i in range(n_seqs):\n",
    "        seq_len = random.randint(lb, ub)\n",
    "        yield [random.randint(1, 5) for _ in range(seq_len)]\n",
    "\n",
    "\n",
    "# Use this for getting y label\n",
    "def count_cpgs(seq: str) -> int:\n",
    "    cgs = 0\n",
    "    for i in range(0, len(seq) - 1):\n",
    "        dimer = seq[i:i+2]\n",
    "        # note that seq is a string, not a list\n",
    "        if dimer == \"CG\":\n",
    "            cgs += 1\n",
    "    return cgs\n",
    "\n",
    "\n",
    "# Alphabet helpers   \n",
    "alphabet = 'NACGT'\n",
    "dna2int = {a: i for a, i in zip(alphabet, range(1, 6))}\n",
    "int2dna = {i: a for a, i in zip(alphabet, range(1, 6))}\n",
    "dna2int.update({\"pad\": 0})\n",
    "int2dna.update({0: \"<pad>\"})\n",
    "\n",
    "intseq_to_dnaseq = partial(map, int2dna.get)\n",
    "dnaseq_to_intseq = partial(map, dna2int.get)"
   ]
  },
  {
   "cell_type": "code",
   "execution_count": null,
   "metadata": {},
   "outputs": [],
   "source": [
    "# TODO complete the task based on the change\n",
    "def prepare_data(num_samples=100, min_len=16, max_len=128):\n",
    "    # TODO prepared the training and test data\n",
    "    # you need to call rand_sequence and count_cpgs here to create the dataset\n",
    "    #step 1\n",
    "    X_dna_seqs_train = list(rand_sequence_var_len(num_samples, min_len, max_len))\n",
    "    #step 2\n",
    "    temp = ???\n",
    "    #step3\n",
    "    y_dna_seqs = ???\n",
    "    \n",
    "    return X_dna_seqs_train, y_dna_seqs\n",
    "    \n",
    "    \n",
    "min_len, max_len = 64, 128\n",
    "train_x, train_y = prepare_data(2048, min_len, max_len)\n",
    "test_x, test_y = prepare_data(512, min_len, max_len)"
   ]
  },
  {
   "cell_type": "code",
   "execution_count": null,
   "metadata": {},
   "outputs": [],
   "source": [
    "class MyDataset(torch.utils.data.Dataset):\n",
    "    def __init__(self, lists, labels) -> None:\n",
    "        self.lists = lists\n",
    "        self.labels = labels\n",
    "\n",
    "    def __getitem__(self, index):\n",
    "        return torch.LongTensor(self.lists[index]), self.labels[index]\n",
    "\n",
    "    def __len__(self):\n",
    "        return len(self.lists)\n",
    "\n",
    "    \n",
    "# this will be a collate_fn for dataloader to pad sequence  \n",
    "class PadSequence:\n",
    "    #TODO"
   ]
  },
  {
   "cell_type": "code",
   "execution_count": null,
   "metadata": {},
   "outputs": [],
   "source": [
    "# TODO complete the rest"
   ]
  }
 ],
 "metadata": {
  "colab": {
   "collapsed_sections": [],
   "name": "Xi Yangs Copy of broken-nn-template.ipynb",
   "provenance": [
    {
     "file_id": "13GlbI_pdKNES8I718iwl1KNnMZ73iOOn",
     "timestamp": 1651680757732
    }
   ]
  },
  "kernelspec": {
   "display_name": "proj_env",
   "language": "python",
   "name": "python3"
  },
  "language_info": {
   "codemirror_mode": {
    "name": "ipython",
    "version": 3
   },
   "file_extension": ".py",
   "mimetype": "text/x-python",
   "name": "python",
   "nbconvert_exporter": "python",
   "pygments_lexer": "ipython3",
   "version": "3.9.6"
  }
 },
 "nbformat": 4,
 "nbformat_minor": 1
}
